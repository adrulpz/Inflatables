{
 "cells": [
  {
   "cell_type": "code",
   "execution_count": null,
   "id": "fd03647f-de6d-4f3d-8ca6-160b56cd53f6",
   "metadata": {},
   "outputs": [],
   "source": [
    "# Add project root to path and import required modules\n",
    "import sys; sys.path.append('../..')\n",
    "import inflation, mesh, sheet_meshing\n",
    "from tri_mesh_viewer import OffscreenTriMeshViewer, TriMeshViewer as Viewer\n",
    "import numpy as np\n",
    "import utils, py_newton_optimizer, benchmark\n",
    "import matplotlib.pyplot as plt\n",
    "from scipy.spatial import KDTree\n",
    "import visualization"
   ]
  },
  {
   "cell_type": "code",
   "execution_count": null,
   "id": "19e54698-95b5-406a-b424-98460f7cd0e5",
   "metadata": {},
   "outputs": [],
   "source": [
    "# Load mesh vertices/edges and fused points (internal non-inflating regions)\n",
    "V, E = mesh.load_raw('../data/ForwardDesign/hinge.obj')\n",
    "fusedPts = list(np.loadtxt('../data/ForwardDesign/fusehingev3.txt').reshape((-1, 2)))\n",
    "holePts = []  # No holes in this example"
   ]
  },
  {
   "cell_type": "code",
   "execution_count": null,
   "id": "bb413113-10a8-4b67-a4ab-09873454a160",
   "metadata": {},
   "outputs": [],
   "source": [
    "# Create the mesh and inflatable sheet object\n",
    "m, iwv, iwbv = sheet_meshing.forward_design_mesh(\n",
    "    V, E, fusedPts, holePts, np.prod(utils.bbox_dims(V)[0:2]) / 1e4\n",
    ")\n",
    "isheet = inflation.InflatableSheet(m, iwv)\n",
    "\n",
    "# Set material properties (ensure these attributes exist in your bindings)\n",
    "isheet.thickness = 0.00015         # 0.15 mm (TPU nylon 70D)\n",
    "isheet.youngModulus = 2.5e8        # 250 MPa"
   ]
  },
  {
   "cell_type": "code",
   "execution_count": null,
   "id": "766b28d9-2d4f-446a-b19e-9368b6f516f4",
   "metadata": {},
   "outputs": [],
   "source": [
    "# Visualize the 2D mesh and highlight fused vertices\n",
    "# iwv is typically a boolean or index array for fused vertices\n",
    "visualization.plot_2d_mesh(m, pointList=np.where(iwv)[0])"
   ]
  },
  {
   "cell_type": "code",
   "execution_count": null,
   "id": "f5130b6d-544c-43af-a137-9a3ff7d2ba46",
   "metadata": {},
   "outputs": [],
   "source": [
    "# Set up offscreen viewer for video recording (no window will pop up)\n",
    "oview = OffscreenTriMeshViewer(isheet, width=768, height=640, wireframe=True)"
   ]
  },
  {
   "cell_type": "code",
   "execution_count": null,
   "id": "64492bf6-439d-49da-9a0c-554f78b9a9b1",
   "metadata": {},
   "outputs": [],
   "source": [
    "# Define target points in 3D and find nearest mesh vertices for tracking\n",
    "target_points = np.array([\n",
    "    [5.0,  0.0, 0.0],\n",
    "    [5.0, 20.0, 0.0],\n",
    "    [5.0, 40.0, 0.0]\n",
    "])\n",
    "\n",
    "# Get rest positions and find nearest actual vertices\n",
    "V_rest = np.array([v.flatten() for v in isheet.restWallVertexPositions()])\n",
    "tree = KDTree(V_rest)\n",
    "tracked_indices = [tree.query(p)[1] for p in target_points]\n",
    "\n",
    "# Store rest positions for displacement calculation\n",
    "rest_positions = {idx: V_rest[idx] for idx in tracked_indices}\n",
    "\n",
    "print(\"Tracked indices:\", tracked_indices)\n",
    "print(\"Tracked coordinates:\", [V_rest[i] for i in tracked_indices])"
   ]
  },
  {
   "cell_type": "code",
   "execution_count": null,
   "id": "92f06413-0f02-4c2d-b6c4-0a2cd5241a54",
   "metadata": {},
   "outputs": [],
   "source": [
    "# Set up dictionary to store trajectory over time\n",
    "trajectory = {idx: [] for idx in tracked_indices}\n",
    "framerate = 5  # Save every 5 iterations\n",
    "\n",
    "def cb(it):\n",
    "    if it % framerate == 0:\n",
    "        for idx in tracked_indices:\n",
    "            pos = isheet.getDeformedVtxPosition(idx, 0).flatten()\n",
    "            trajectory[idx].append(pos)\n",
    "        oview.update()  # Update offscreen viewer (for video)"
   ]
  },
  {
   "cell_type": "code",
   "execution_count": null,
   "id": "6e9fbdf1-90cf-473f-9a14-ebb205e94aa3",
   "metadata": {},
   "outputs": [],
   "source": [
    "# Set up and run the simulation, recording video\n",
    "benchmark.reset()\n",
    "oview.recordStart('tracked_inflation3.mp4')  # Start recording\n",
    "\n",
    "isheet.setUseTensionFieldEnergy(True)\n",
    "isheet.setUseHessianProjectedEnergy(False)\n",
    "\n",
    "opts = py_newton_optimizer.NewtonOptimizerOptions()\n",
    "opts.niter = 500\n",
    "isheet.pressure = 1\n",
    "\n",
    "cr = inflation.inflation_newton(isheet, isheet.rigidMotionPinVars, opts, callback=cb)\n",
    "\n",
    "benchmark.report()\n",
    "oview.recordStop()  # End recording"
   ]
  },
  {
   "cell_type": "code",
   "execution_count": null,
   "id": "06560c10-1354-49a6-ae5a-c96edfa360ed",
   "metadata": {},
   "outputs": [],
   "source": [
    "# Export the deformed mesh as an OBJ file for further use\n",
    "def write_obj(path, V, F):\n",
    "    with open(path, \"w\") as f:\n",
    "        for v in V:\n",
    "            f.write(\"v {:.6f} {:.6f} {:.6f}\\n\".format(*v))\n",
    "        for face in F:\n",
    "            f.write(\"f {} {} {}\\n\".format(*(face + 1)))  # OBJ is 1-indexed\n",
    "\n",
    "V_raw, F_raw, *_ = isheet.visualizationGeometry()\n",
    "V = np.array([v.flatten() for v in V_raw], dtype=np.float64)\n",
    "F = np.array([f for f in F_raw], dtype=np.int32)\n",
    "write_obj(\"inflated_mesh3.obj\", V, F)"
   ]
  },
  {
   "cell_type": "code",
   "execution_count": null,
   "id": "183a2137-d41c-466e-844d-ea79de07bd31",
   "metadata": {},
   "outputs": [],
   "source": [
    "# Plot Z displacement, X/Y displacement, and 3D trajectory for tracked vertices\n",
    "fig = plt.figure(figsize=(18, 5))\n",
    "\n",
    "# Z Displacement\n",
    "ax1 = fig.add_subplot(1, 3, 1)\n",
    "for idx in tracked_indices:\n",
    "    traj = np.array(trajectory[idx])\n",
    "    if traj.shape[0] > 1:\n",
    "        z_disp = traj[:, 2] - rest_positions[idx][2]\n",
    "        ax1.plot(range(len(traj)), z_disp, label=f\"Vertex {idx} (Z)\")\n",
    "ax1.set_title(\"Z Displacement vs Iteration\")\n",
    "ax1.set_xlabel(f\"Iteration (every {framerate} steps)\")\n",
    "ax1.set_ylabel(\"ΔZ from rest\")\n",
    "ax1.grid(True)\n",
    "ax1.legend()\n",
    "\n",
    "# X and Y Displacement\n",
    "ax2 = fig.add_subplot(1, 3, 2)\n",
    "for idx in tracked_indices:\n",
    "    traj = np.array(trajectory[idx])\n",
    "    if traj.shape[0] > 1:\n",
    "        x_disp = traj[:, 0] - rest_positions[idx][0]\n",
    "        y_disp = traj[:, 1] - rest_positions[idx][1]\n",
    "        ax2.plot(range(len(traj)), x_disp, label=f\"Vertex {idx} (X)\")\n",
    "        ax2.plot(range(len(traj)), y_disp, linestyle='--', label=f\"Vertex {idx} (Y)\")\n",
    "ax2.set_title(\"X and Y Displacement vs Iteration\")\n",
    "ax2.set_xlabel(f\"Iteration (every {framerate} steps)\")\n",
    "ax2.set_ylabel(\"ΔX / ΔY from rest\")\n",
    "ax2.grid(True)\n",
    "ax2.legend()\n",
    "\n",
    "# 3D Trajectory\n",
    "ax3 = fig.add_subplot(1, 3, 3, projection='3d')\n",
    "for idx in tracked_indices:\n",
    "    traj = np.array(trajectory[idx])\n",
    "    if traj.shape[0] > 1:\n",
    "        ax3.plot(traj[:, 0], traj[:, 1], traj[:, 2], label=f\"Vertex {idx}\")\n",
    "ax3.set_title(\"3D Trajectory of Tracked Vertices\")\n",
    "ax3.set_xlabel(\"X\")\n",
    "ax3.set_ylabel(\"Y\")\n",
    "ax3.set_zlabel(\"Z\")\n",
    "ax3.legend()\n",
    "\n",
    "plt.tight_layout()\n",
    "plt.show()"
   ]
  },
  {
   "cell_type": "code",
   "execution_count": null,
   "id": "9cea68bc-33ad-40b3-bbeb-4fb3863aba62",
   "metadata": {},
   "outputs": [],
   "source": [
    "# Plot absolute X, Y, Z positions vs iteration for each tracked vertex\n",
    "fig, axs = plt.subplots(1, 3, figsize=(15, 4))\n",
    "\n",
    "for idx in tracked_indices:\n",
    "    traj = np.array(trajectory[idx])\n",
    "    if traj.shape[0] <= 1:\n",
    "        continue\n",
    "    iterations = range(len(traj))\n",
    "    axs[0].plot(iterations, traj[:, 0], label=f\"Vertex {idx}\")\n",
    "    axs[1].plot(iterations, traj[:, 1], label=f\"Vertex {idx}\")\n",
    "    axs[2].plot(iterations, traj[:, 2], label=f\"Vertex {idx}\")\n",
    "\n",
    "# X\n",
    "axs[0].set_title(\"X Position vs Iteration\")\n",
    "axs[0].set_xlabel(f\"Iteration (every {framerate} steps)\")\n",
    "axs[0].set_ylabel(\"X Position\")\n",
    "axs[0].grid(True)\n",
    "axs[0].legend()\n",
    "\n",
    "# Y\n",
    "axs[1].set_title(\"Y Position vs Iteration\")\n",
    "axs[1].set_xlabel(f\"Iteration (every {framerate} steps)\")\n",
    "axs[1].set_ylabel(\"Y Position\")\n",
    "axs[1].grid(True)\n",
    "axs[1].legend()\n",
    "\n",
    "# Z\n",
    "axs[2].set_title(\"Z Position vs Iteration\")\n",
    "axs[2].set_xlabel(f\"Iteration (every {framerate} steps)\")\n",
    "axs[2].set_ylabel(\"Z Position\")\n",
    "axs[2].grid(True)\n",
    "axs[2].legend()\n",
    "\n",
    "plt.tight_layout()\n",
    "plt.show()"
   ]
  },
  {
   "cell_type": "code",
   "execution_count": null,
   "id": "75ebd89e-7551-4499-a20b-4d93c59f5a0a",
   "metadata": {},
   "outputs": [],
   "source": [
    "# On-screen 3D viewer for interactive inspection (run in a separate cell)\n",
    "viewer = Viewer(isheet, wireframe=True)\n",
    "viewer.show()"
   ]
  }
 ],
 "metadata": {
  "kernelspec": {
   "display_name": "Python 3",
   "language": "python",
   "name": "python3"
  },
  "language_info": {
   "codemirror_mode": {
    "name": "ipython",
    "version": 3
   },
   "file_extension": ".py",
   "mimetype": "text/x-python",
   "name": "python",
   "nbconvert_exporter": "python",
   "pygments_lexer": "ipython3",
   "version": "3.8.10"
  }
 },
 "nbformat": 4,
 "nbformat_minor": 5
}
