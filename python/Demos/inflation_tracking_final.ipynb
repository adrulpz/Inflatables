{
 "cells": [
  {
   "cell_type": "code",
   "execution_count": 1,
   "id": "20e66c87",
   "metadata": {},
   "outputs": [],
   "source": [
    "\n",
    "import sys; sys.path.append('..')\n",
    "import inflation, mesh, sheet_meshing\n",
    "from tri_mesh_viewer import TriMeshViewer as Viewer\n",
    "import triangulation\n",
    "import numpy as np\n",
    "import utils, py_newton_optimizer, benchmark\n",
    "import matplotlib.pyplot as plt\n",
    "from mpl_toolkits.mplot3d import Axes3D\n",
    "from scipy.spatial import KDTree\n"
   ]
  },
  {
   "cell_type": "code",
   "execution_count": 2,
   "id": "274114b6",
   "metadata": {},
   "outputs": [
    {
     "data": {
      "application/vnd.jupyter.widget-view+json": {
       "model_id": "b8fac61d475444fa99b71d278d8239ea",
       "version_major": 2,
       "version_minor": 0
      },
      "text/plain": [
       "Renderer(camera=PerspectiveCamera(children=(PointLight(color='#999999', position=(0.0, 0.0, 5.0), quaternion=(…"
      ]
     },
     "metadata": {},
     "output_type": "display_data"
    }
   ],
   "source": [
    "\n",
    "V, E = mesh.load_raw('data/ForwardDesign/hinge.obj')\n",
    "fusedPts = list(np.loadtxt('data/ForwardDesign/fusehingev3.txt').reshape((-1, 2)))\n",
    "holePts = []\n",
    "m, iwv, iwbv = sheet_meshing.forward_design_mesh(V, E, fusedPts, holePts, np.prod(utils.bbox_dims(V)[0:2]) / 1e4)\n",
    "isheet = inflation.InflatableSheet(m, iwv)\n",
    "viewer = Viewer(isheet, wireframe=True)\n",
    "viewer.show()\n"
   ]
  },
  {
   "cell_type": "code",
   "execution_count": 3,
   "id": "1db220c4",
   "metadata": {},
   "outputs": [],
   "source": [
    "\n",
    "target_points = np.array([\n",
    "    [5.0,  0.0, 0.0],\n",
    "    [5.0, 20.0, 0.0],\n",
    "    [5.0, 40.0, 0.0]\n",
    "])\n",
    "V_rest = np.array([v.flatten() for v in isheet.restWallVertexPositions()])\n",
    "tree = KDTree(V_rest)\n",
    "tracked_indices = [tree.query(p)[1] for p in target_points]\n",
    "trajectory = {idx: [] for idx in tracked_indices}\n",
    "framerate = 5\n",
    "def cb(it):\n",
    "    if it % framerate == 0:\n",
    "        for idx in tracked_indices:\n",
    "            pos = isheet.getDeformedVtxPosition(idx, 0).flatten()\n",
    "            trajectory[idx].append(pos)\n",
    "        viewer.update()\n"
   ]
  },
  {
   "cell_type": "code",
   "execution_count": 4,
   "id": "037f9012",
   "metadata": {},
   "outputs": [
    {
     "ename": "AttributeError",
     "evalue": "'TriMeshViewer' object has no attribute 'recordStart'",
     "output_type": "error",
     "traceback": [
      "\u001b[0;31m---------------------------------------------------------------------------\u001b[0m",
      "\u001b[0;31mAttributeError\u001b[0m                            Traceback (most recent call last)",
      "Cell \u001b[0;32mIn[4], line 2\u001b[0m\n\u001b[1;32m      1\u001b[0m benchmark\u001b[38;5;241m.\u001b[39mreset()\n\u001b[0;32m----> 2\u001b[0m \u001b[43mviewer\u001b[49m\u001b[38;5;241;43m.\u001b[39;49m\u001b[43mrecordStart\u001b[49m(\u001b[38;5;124m'\u001b[39m\u001b[38;5;124mtracked_inflation.mp4\u001b[39m\u001b[38;5;124m'\u001b[39m)\n\u001b[1;32m      3\u001b[0m isheet\u001b[38;5;241m.\u001b[39msetUseTensionFieldEnergy(\u001b[38;5;28;01mTrue\u001b[39;00m)\n\u001b[1;32m      4\u001b[0m isheet\u001b[38;5;241m.\u001b[39msetUseHessianProjectedEnergy(\u001b[38;5;28;01mFalse\u001b[39;00m)\n",
      "\u001b[0;31mAttributeError\u001b[0m: 'TriMeshViewer' object has no attribute 'recordStart'"
     ]
    }
   ],
   "source": [
    "\n",
    "benchmark.reset()\n",
    "viewer.recordStart('tracked_inflation.mp4')\n",
    "isheet.setUseTensionFieldEnergy(True)\n",
    "isheet.setUseHessianProjectedEnergy(False)\n",
    "opts = py_newton_optimizer.NewtonOptimizerOptions()\n",
    "opts.niter = 500\n",
    "isheet.pressure = 1\n",
    "cr = inflation.inflation_newton(isheet, isheet.rigidMotionPinVars, opts, callback=cb)\n",
    "benchmark.report()\n",
    "viewer.recordStop()\n"
   ]
  },
  {
   "cell_type": "code",
   "execution_count": null,
   "id": "7d370240",
   "metadata": {},
   "outputs": [],
   "source": [
    "\n",
    "fig = plt.figure(figsize=(8, 6))\n",
    "ax = fig.add_subplot(111, projection='3d')\n",
    "for idx in tracked_indices:\n",
    "    traj = np.array(trajectory[idx])\n",
    "    if traj.shape[0] <= 1:\n",
    "        continue\n",
    "    ax.plot(traj[:, 0], traj[:, 1], traj[:, 2], label=f\"Vertex {idx}\")\n",
    "ax.set_xlabel('X')\n",
    "ax.set_ylabel('Y')\n",
    "ax.set_zlabel('Z')\n",
    "ax.set_title(\"3D Trajectory of Tracked Vertices During Inflation\")\n",
    "ax.legend()\n",
    "plt.tight_layout()\n",
    "plt.show()\n"
   ]
  },
  {
   "cell_type": "code",
   "execution_count": null,
   "id": "dbc41b30",
   "metadata": {},
   "outputs": [],
   "source": [
    "\n",
    "fig, axs = plt.subplots(1, 3, figsize=(18, 5))\n",
    "labels = [\n",
    "    f\"Vertex {idx} ({target_points[i][0]:.1f}, {target_points[i][1]:.1f}, {target_points[i][2]:.1f})\"\n",
    "    for i, idx in enumerate(tracked_indices)\n",
    "]\n",
    "for i, idx in enumerate(tracked_indices):\n",
    "    traj = np.array(trajectory[idx])\n",
    "    if traj.shape[0] <= 1:\n",
    "        continue\n",
    "    axs[0].plot(range(len(traj)), traj[:, 0], label=labels[i])\n",
    "    axs[1].plot(range(len(traj)), traj[:, 1], label=labels[i])\n",
    "    axs[2].plot(range(len(traj)), traj[:, 2], label=labels[i])\n",
    "axs[0].set_title(\"X-axis Displacement\")\n",
    "axs[1].set_title(\"Y-axis Displacement\")\n",
    "axs[2].set_title(\"Z-axis Displacement\")\n",
    "for ax in axs:\n",
    "    ax.set_xlabel(\"Iteration (every {} steps)\".format(framerate))\n",
    "    ax.set_ylabel(\"Displacement\")\n",
    "    ax.grid(True)\n",
    "    ax.legend()\n",
    "plt.tight_layout()\n",
    "plt.show()\n"
   ]
  },
  {
   "cell_type": "code",
   "execution_count": null,
   "id": "13b48890",
   "metadata": {},
   "outputs": [],
   "source": [
    "\n",
    "def write_obj(path, V, F):\n",
    "    with open(path, \"w\") as f:\n",
    "        for v in V:\n",
    "            f.write(\"v {:.6f} {:.6f} {:.6f}\\n\".format(*v))\n",
    "        for face in F:\n",
    "            f.write(\"f {} {} {}\\n\".format(*(face + 1)))\n",
    "\n",
    "V_raw, F_raw, _, _ = isheet.visualizationGeometry()\n",
    "V = np.array([v.flatten() for v in V_raw], dtype=np.float64)\n",
    "F = np.array([list(f) for f in F_raw], dtype=np.int32)\n",
    "write_obj(\"Tracked.obj\", V, F)\n"
   ]
  }
 ],
 "metadata": {
  "kernelspec": {
   "display_name": "Python 3",
   "language": "python",
   "name": "python3"
  },
  "language_info": {
   "codemirror_mode": {
    "name": "ipython",
    "version": 3
   },
   "file_extension": ".py",
   "mimetype": "text/x-python",
   "name": "python",
   "nbconvert_exporter": "python",
   "pygments_lexer": "ipython3",
   "version": "3.8.10"
  }
 },
 "nbformat": 4,
 "nbformat_minor": 5
}
